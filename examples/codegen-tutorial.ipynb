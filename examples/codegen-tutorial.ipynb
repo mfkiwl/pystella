{
 "cells": [
  {
   "cell_type": "markdown",
   "metadata": {},
   "source": [
    "# Code generation with `pystella` and `loopy`"
   ]
  },
  {
   "cell_type": "code",
   "execution_count": 1,
   "metadata": {},
   "outputs": [],
   "source": [
    "import numpy as np\n",
    "import pyopencl as cl\n",
    "import pyopencl.array as cla\n",
    "import pyopencl.clrandom as clr\n",
    "import loopy as lp\n",
    "from loopy.version import LOOPY_USE_LANGUAGE_VERSION_2018_2"
   ]
  },
  {
   "cell_type": "markdown",
   "metadata": {},
   "source": [
    "# Four ways to an OpenCL kernel\n",
    "\n",
    "We're going to create (and run!) an OpenCL kernel that computes\n",
    "\n",
    "$$\n",
    "a(\\mathbf{x}) = b(\\mathbf{x})^2 \\cdot c(\\mathbf{x}) + z\n",
    "$$\n",
    "\n",
    "in four different ways.\n",
    "\n",
    "First, we'll generate data and expected results with `numpy`."
   ]
  },
  {
   "cell_type": "code",
   "execution_count": 2,
   "metadata": {},
   "outputs": [],
   "source": [
    "n = 64  # the grid size in each dimension\n",
    "\n",
    "b_h = np.random.rand(n, n, n).astype(np.float64)\n",
    "c_h = np.random.rand(n, n, n).astype(np.float64)\n",
    "z = np.array(3.2)\n",
    "\n",
    "a_true_h = b_h**2 * c_h + z"
   ]
  },
  {
   "cell_type": "markdown",
   "metadata": {},
   "source": [
    "## 1. `pyopencl` arrays methods"
   ]
  },
  {
   "cell_type": "markdown",
   "metadata": {},
   "source": [
    "First, we need an OpenCL \"context\" (the umbrella construct for running programs with OpenCL) and a \"queue\" (to which kernels will be submitted to execute on a device).\n",
    "\n",
    "Check out `pyopencl`'s [docs](https://documen.tician.de/pyopencl/) for examples and details."
   ]
  },
  {
   "cell_type": "code",
   "execution_count": 3,
   "metadata": {},
   "outputs": [],
   "source": [
    "ctx = cl.create_some_context()\n",
    "queue = cl.CommandQueue(ctx)"
   ]
  },
  {
   "cell_type": "markdown",
   "metadata": {},
   "source": [
    "`pyopencl` has a very convenient `Array` construct, which emulates `numpy` arrays---but with memory residing on the device.\n",
    "We'll copy the data to the device and try it out."
   ]
  },
  {
   "cell_type": "code",
   "execution_count": 4,
   "metadata": {},
   "outputs": [],
   "source": [
    "b = cla.to_device(queue, b_h)\n",
    "c = cla.to_device(queue, c_h)\n",
    "a = cla.zeros_like(b)\n",
    "a_true = cla.to_device(queue, a_true_h)"
   ]
  },
  {
   "cell_type": "code",
   "execution_count": 5,
   "metadata": {},
   "outputs": [],
   "source": [
    "a[:] = b**2 * c + z"
   ]
  },
  {
   "cell_type": "markdown",
   "metadata": {},
   "source": [
    "To compare results, compute the maximum of `a - a_true`:"
   ]
  },
  {
   "cell_type": "code",
   "execution_count": 6,
   "metadata": {},
   "outputs": [],
   "source": [
    "difference = a - a_true"
   ]
  },
  {
   "cell_type": "code",
   "execution_count": 7,
   "metadata": {},
   "outputs": [
    {
     "data": {
      "text/plain": [
       "8.881784197001252e-16"
      ]
     },
     "execution_count": 7,
     "metadata": {},
     "output_type": "execute_result"
    }
   ],
   "source": [
    "np.max(difference.get())"
   ]
  },
  {
   "cell_type": "markdown",
   "metadata": {},
   "source": [
    "Note that we had to call `difference.get()`, which returns a `numpy.ndarray` on the \"host\" (the CPU) with data copied from `difference` (on the GPU).\n",
    "We can also use `pyopencl`'s `max` method:"
   ]
  },
  {
   "cell_type": "code",
   "execution_count": 8,
   "metadata": {},
   "outputs": [
    {
     "data": {
      "text/plain": [
       "array(8.8817842e-16)"
      ]
     },
     "execution_count": 8,
     "metadata": {},
     "output_type": "execute_result"
    }
   ],
   "source": [
    "cla.max(difference)"
   ]
  },
  {
   "cell_type": "markdown",
   "metadata": {},
   "source": [
    "## 2. OpenCL kernel generation with `loopy`"
   ]
  },
  {
   "cell_type": "markdown",
   "metadata": {},
   "source": [
    "Refer to `loopy`'s [tutorial](https://documen.tician.de/loopy/tutorial.html) to get started.\n",
    "\n",
    "Let's create a kernel which computes the above for $i \\in [0, N_x)$, $j \\in [0, N_y)$, and $k \\in [0, N_z)$:"
   ]
  },
  {
   "cell_type": "code",
   "execution_count": 9,
   "metadata": {},
   "outputs": [],
   "source": [
    "knl = lp.make_kernel(\n",
    "    \"{[i, j, k]: 0 <= i < Nx and 0 <= j < Ny and 0 <= k < Nz}\",\n",
    "    \"\"\"\n",
    "    a[i, j, k] = b[i, j, k]**2 * c[i, j, k] + z\n",
    "    \"\"\"\n",
    ")"
   ]
  },
  {
   "cell_type": "markdown",
   "metadata": {},
   "source": [
    "Inspect your kernel to see if it appears correct by printing it.\n",
    "How did `make_kernel` interpret the un-indexed scalar variable `z`?"
   ]
  },
  {
   "cell_type": "code",
   "execution_count": 10,
   "metadata": {},
   "outputs": [
    {
     "name": "stdout",
     "output_type": "stream",
     "text": [
      "---------------------------------------------------------------------------\n",
      "KERNEL: loopy_kernel\n",
      "---------------------------------------------------------------------------\n",
      "ARGUMENTS:\n",
      "Nx: ValueArg, type: <auto/runtime>\n",
      "Ny: ValueArg, type: <auto/runtime>\n",
      "Nz: ValueArg, type: <auto/runtime>\n",
      "a: type: <auto/runtime>, shape: (Nx, Ny, Nz), dim_tags: (N2:stride:Nz*Ny, N1:stride:Nz, N0:stride:1) aspace: global\n",
      "b: type: <auto/runtime>, shape: (Nx, Ny, Nz), dim_tags: (N2:stride:Nz*Ny, N1:stride:Nz, N0:stride:1) aspace: global\n",
      "c: type: <auto/runtime>, shape: (Nx, Ny, Nz), dim_tags: (N2:stride:Nz*Ny, N1:stride:Nz, N0:stride:1) aspace: global\n",
      "z: ValueArg, type: <auto/runtime>\n",
      "---------------------------------------------------------------------------\n",
      "DOMAINS:\n",
      "[Nx, Ny, Nz] -> { [i, j, k] : 0 <= i < Nx and 0 <= j < Ny and 0 <= k < Nz }\n",
      "---------------------------------------------------------------------------\n",
      "INAME IMPLEMENTATION TAGS:\n",
      "i: None\n",
      "j: None\n",
      "k: None\n",
      "---------------------------------------------------------------------------\n",
      "INSTRUCTIONS:\n",
      "for i, j, k\n",
      "      \u001b[36ma[i, j, k]\u001b[0m = \u001b[35mb[i, j, k]**2*c[i, j, k] + z\u001b[0m  {id=\u001b[32minsn\u001b[0m}\n",
      "end i, j, k\n",
      "---------------------------------------------------------------------------\n"
     ]
    }
   ],
   "source": [
    "print(knl)"
   ]
  },
  {
   "cell_type": "markdown",
   "metadata": {},
   "source": [
    "We can now test our kernel by directly calling the `knl` we created above:"
   ]
  },
  {
   "cell_type": "code",
   "execution_count": 11,
   "metadata": {},
   "outputs": [],
   "source": [
    "evt, _ = knl(queue, a=a, b=b, c=c, z=z)"
   ]
  },
  {
   "cell_type": "markdown",
   "metadata": {},
   "source": [
    "Note that `z` needs to be a `numpy.array` so that `loopy` can infer its datatype."
   ]
  },
  {
   "cell_type": "markdown",
   "metadata": {},
   "source": [
    "To compare results, compute the maximum of `a - a_true`:"
   ]
  },
  {
   "cell_type": "code",
   "execution_count": 12,
   "metadata": {},
   "outputs": [],
   "source": [
    "difference = a - a_true"
   ]
  },
  {
   "cell_type": "code",
   "execution_count": 13,
   "metadata": {},
   "outputs": [
    {
     "data": {
      "text/plain": [
       "8.881784197001252e-16"
      ]
     },
     "execution_count": 13,
     "metadata": {},
     "output_type": "execute_result"
    }
   ],
   "source": [
    "np.max(difference.get())"
   ]
  },
  {
   "cell_type": "markdown",
   "metadata": {},
   "source": [
    "### Parallelization"
   ]
  },
  {
   "cell_type": "markdown",
   "metadata": {},
   "source": [
    "Now, GPUs are parallel, and the kernel we just wrote isn't making use of any parallelism.\n",
    "First, let's check what OpenCL code was produced by setting the kernel option `write_cl` to `True`:"
   ]
  },
  {
   "cell_type": "code",
   "execution_count": 14,
   "metadata": {},
   "outputs": [],
   "source": [
    "knl = lp.set_options(knl, write_cl=True)"
   ]
  },
  {
   "cell_type": "markdown",
   "metadata": {},
   "source": [
    "If we run the kernel now, it will print OpenCL code:"
   ]
  },
  {
   "cell_type": "code",
   "execution_count": 15,
   "metadata": {},
   "outputs": [
    {
     "name": "stdout",
     "output_type": "stream",
     "text": [
      "\u001b[36m#\u001b[39;49;00m\u001b[36mdefine lid(N) ((int) get_local_id(N))\u001b[39;49;00m\u001b[36m\u001b[39;49;00m\n",
      "\u001b[36m#\u001b[39;49;00m\u001b[36mdefine gid(N) ((int) get_group_id(N))\u001b[39;49;00m\u001b[36m\u001b[39;49;00m\n",
      "\u001b[36m#\u001b[39;49;00m\u001b[36mif __OPENCL_C_VERSION__ < 120\u001b[39;49;00m\u001b[36m\u001b[39;49;00m\n",
      "\u001b[36m#\u001b[39;49;00m\u001b[36mpragma OPENCL EXTENSION cl_khr_fp64: enable\u001b[39;49;00m\u001b[36m\u001b[39;49;00m\n",
      "\u001b[36m#\u001b[39;49;00m\u001b[36mendif\u001b[39;49;00m\u001b[36m\u001b[39;49;00m\n",
      "\n",
      "__kernel \u001b[36mvoid\u001b[39;49;00m \u001b[32m__attribute__\u001b[39;49;00m ((reqd_work_group_size(\u001b[34m1\u001b[39;49;00m, \u001b[34m1\u001b[39;49;00m, \u001b[34m1\u001b[39;49;00m))) loopy_kernel(\u001b[36mint\u001b[39;49;00m \u001b[34mconst\u001b[39;49;00m Nx, \u001b[36mint\u001b[39;49;00m \u001b[34mconst\u001b[39;49;00m Ny, \u001b[36mint\u001b[39;49;00m \u001b[34mconst\u001b[39;49;00m Nz, __global \u001b[36mdouble\u001b[39;49;00m *__restrict__ a, __global \u001b[36mdouble\u001b[39;49;00m \u001b[34mconst\u001b[39;49;00m *__restrict__ b, __global \u001b[36mdouble\u001b[39;49;00m \u001b[34mconst\u001b[39;49;00m *__restrict__ c, \u001b[36mdouble\u001b[39;49;00m \u001b[34mconst\u001b[39;49;00m z)\n",
      "{\n",
      "  \u001b[34mfor\u001b[39;49;00m (\u001b[36mint\u001b[39;49;00m k = \u001b[34m0\u001b[39;49;00m; k <= -\u001b[34m1\u001b[39;49;00m + Nz; ++k)\n",
      "    \u001b[34mif\u001b[39;49;00m (-\u001b[34m1\u001b[39;49;00m + Nx >= \u001b[34m0\u001b[39;49;00m && -\u001b[34m1\u001b[39;49;00m + Ny >= \u001b[34m0\u001b[39;49;00m)\n",
      "      \u001b[34mfor\u001b[39;49;00m (\u001b[36mint\u001b[39;49;00m j = \u001b[34m0\u001b[39;49;00m; j <= -\u001b[34m1\u001b[39;49;00m + Ny; ++j)\n",
      "        \u001b[34mfor\u001b[39;49;00m (\u001b[36mint\u001b[39;49;00m i = \u001b[34m0\u001b[39;49;00m; i <= -\u001b[34m1\u001b[39;49;00m + Nx; ++i)\n",
      "          a[Nz * Ny * i + Nz * j + k] = c[Nz * Ny * i + Nz * j + k] * b[Nz * Ny * i + Nz * j + k] * b[Nz * Ny * i + Nz * j + k] + z;\n",
      "}\n",
      "\n"
     ]
    }
   ],
   "source": [
    "evt, _ = knl(queue, a=a, b=b, c=c, z=z)"
   ]
  },
  {
   "cell_type": "markdown",
   "metadata": {},
   "source": [
    "It looks correct, array indexing and all.\n",
    "But that's a lot of sequential loops!\n",
    "`loopy` enables *code transformations* that (aim to) optimize the performance of a given kernel.\n",
    "For instance, mapping the `k` index to the \"0\" index of the local and global OpenCL thread dimensions is accomplished via `loopy.split_iname`:"
   ]
  },
  {
   "cell_type": "code",
   "execution_count": 16,
   "metadata": {},
   "outputs": [],
   "source": [
    "knl = lp.split_iname(knl, \"k\", 32, outer_tag=\"g.0\", inner_tag=\"l.0\")"
   ]
  },
  {
   "cell_type": "markdown",
   "metadata": {},
   "source": [
    "Let's see what this did to the kernel:"
   ]
  },
  {
   "cell_type": "code",
   "execution_count": 17,
   "metadata": {},
   "outputs": [
    {
     "name": "stdout",
     "output_type": "stream",
     "text": [
      "---------------------------------------------------------------------------\n",
      "KERNEL: loopy_kernel\n",
      "---------------------------------------------------------------------------\n",
      "ARGUMENTS:\n",
      "Nx: ValueArg, type: <auto/runtime>\n",
      "Ny: ValueArg, type: <auto/runtime>\n",
      "Nz: ValueArg, type: <auto/runtime>\n",
      "a: type: <auto/runtime>, shape: (Nx, Ny, Nz), dim_tags: (N2:stride:Nz*Ny, N1:stride:Nz, N0:stride:1) aspace: global\n",
      "b: type: <auto/runtime>, shape: (Nx, Ny, Nz), dim_tags: (N2:stride:Nz*Ny, N1:stride:Nz, N0:stride:1) aspace: global\n",
      "c: type: <auto/runtime>, shape: (Nx, Ny, Nz), dim_tags: (N2:stride:Nz*Ny, N1:stride:Nz, N0:stride:1) aspace: global\n",
      "z: ValueArg, type: <auto/runtime>\n",
      "---------------------------------------------------------------------------\n",
      "DOMAINS:\n",
      "[Nx, Ny, Nz] -> { [i, j, k_outer, k_inner] : 0 <= i < Nx and 0 <= j < Ny and k_inner >= 0 and -32k_outer <= k_inner <= 31 and k_inner < Nz - 32k_outer }\n",
      "---------------------------------------------------------------------------\n",
      "INAME IMPLEMENTATION TAGS:\n",
      "i: None\n",
      "j: None\n",
      "k_inner: l.0\n",
      "k_outer: g.0\n",
      "---------------------------------------------------------------------------\n",
      "INSTRUCTIONS:\n",
      "for i, k_outer, k_inner, j\n",
      "        \u001b[36ma[i, j, k_inner + k_outer*32]\u001b[0m = \u001b[35mb[i, j, k_inner + k_outer*32]**2*c[i, j, k_inner + k_outer*32] + z\u001b[0m  {id=\u001b[32minsn\u001b[0m}\n",
      "end i, k_outer, k_inner, j\n",
      "---------------------------------------------------------------------------\n"
     ]
    }
   ],
   "source": [
    "print(knl)"
   ]
  },
  {
   "cell_type": "markdown",
   "metadata": {},
   "source": [
    "The above splits the loop over the \"iname\" `k` into (a yet-undetermined number of) blocks of 32 threads each."
   ]
  },
  {
   "cell_type": "markdown",
   "metadata": {},
   "source": [
    "The \"iname\" (index name) `k` is gone, repalced by the combination `k_inner + k_outer * 32`.\n",
    "Observe also that the \"implementation\" of these new inames has been tagged to map to axes of global and local parallelization (as we specified).\n",
    "If we run the kernel now (enabling `write_cl` again), we see that the sequential loop over `k` is gone, and the indexing of `k` has been replaced by `32 * gid(0) + lid(0)`."
   ]
  },
  {
   "cell_type": "code",
   "execution_count": 18,
   "metadata": {},
   "outputs": [
    {
     "name": "stdout",
     "output_type": "stream",
     "text": [
      "\u001b[36m#\u001b[39;49;00m\u001b[36mdefine lid(N) ((int) get_local_id(N))\u001b[39;49;00m\u001b[36m\u001b[39;49;00m\n",
      "\u001b[36m#\u001b[39;49;00m\u001b[36mdefine gid(N) ((int) get_group_id(N))\u001b[39;49;00m\u001b[36m\u001b[39;49;00m\n",
      "\u001b[36m#\u001b[39;49;00m\u001b[36mif __OPENCL_C_VERSION__ < 120\u001b[39;49;00m\u001b[36m\u001b[39;49;00m\n",
      "\u001b[36m#\u001b[39;49;00m\u001b[36mpragma OPENCL EXTENSION cl_khr_fp64: enable\u001b[39;49;00m\u001b[36m\u001b[39;49;00m\n",
      "\u001b[36m#\u001b[39;49;00m\u001b[36mendif\u001b[39;49;00m\u001b[36m\u001b[39;49;00m\n",
      "\n",
      "__kernel \u001b[36mvoid\u001b[39;49;00m \u001b[32m__attribute__\u001b[39;49;00m ((reqd_work_group_size(\u001b[34m32\u001b[39;49;00m, \u001b[34m1\u001b[39;49;00m, \u001b[34m1\u001b[39;49;00m))) loopy_kernel(\u001b[36mint\u001b[39;49;00m \u001b[34mconst\u001b[39;49;00m Nx, \u001b[36mint\u001b[39;49;00m \u001b[34mconst\u001b[39;49;00m Ny, \u001b[36mint\u001b[39;49;00m \u001b[34mconst\u001b[39;49;00m Nz, __global \u001b[36mdouble\u001b[39;49;00m *__restrict__ a, __global \u001b[36mdouble\u001b[39;49;00m \u001b[34mconst\u001b[39;49;00m *__restrict__ b, __global \u001b[36mdouble\u001b[39;49;00m \u001b[34mconst\u001b[39;49;00m *__restrict__ c, \u001b[36mdouble\u001b[39;49;00m \u001b[34mconst\u001b[39;49;00m z)\n",
      "{\n",
      "  \u001b[34mif\u001b[39;49;00m (-\u001b[34m1\u001b[39;49;00m + Nx >= \u001b[34m0\u001b[39;49;00m && -\u001b[34m1\u001b[39;49;00m + Ny >= \u001b[34m0\u001b[39;49;00m && -\u001b[34m1\u001b[39;49;00m + -\u001b[34m32\u001b[39;49;00m * gid(\u001b[34m0\u001b[39;49;00m) + -\u001b[34m1\u001b[39;49;00m * lid(\u001b[34m0\u001b[39;49;00m) + Nz >= \u001b[34m0\u001b[39;49;00m)\n",
      "    \u001b[34mfor\u001b[39;49;00m (\u001b[36mint\u001b[39;49;00m j = \u001b[34m0\u001b[39;49;00m; j <= -\u001b[34m1\u001b[39;49;00m + Ny; ++j)\n",
      "      \u001b[34mfor\u001b[39;49;00m (\u001b[36mint\u001b[39;49;00m i = \u001b[34m0\u001b[39;49;00m; i <= -\u001b[34m1\u001b[39;49;00m + Nx; ++i)\n",
      "        a[Nz * Ny * i + Nz * j + \u001b[34m32\u001b[39;49;00m * gid(\u001b[34m0\u001b[39;49;00m) + lid(\u001b[34m0\u001b[39;49;00m)] = c[Nz * Ny * i + Nz * j + \u001b[34m32\u001b[39;49;00m * gid(\u001b[34m0\u001b[39;49;00m) + lid(\u001b[34m0\u001b[39;49;00m)] * b[Nz * Ny * i + Nz * j + \u001b[34m32\u001b[39;49;00m * gid(\u001b[34m0\u001b[39;49;00m) + lid(\u001b[34m0\u001b[39;49;00m)] * b[Nz * Ny * i + Nz * j + \u001b[34m32\u001b[39;49;00m * gid(\u001b[34m0\u001b[39;49;00m) + lid(\u001b[34m0\u001b[39;49;00m)] + z;\n",
      "}\n",
      "\n"
     ]
    }
   ],
   "source": [
    "knl = lp.set_options(knl, write_cl=True)\n",
    "evt, _ = knl(queue, a=a, b=b, c=c, z=z)"
   ]
  },
  {
   "cell_type": "markdown",
   "metadata": {},
   "source": [
    "Note that no loops over `k_inner` nor `k_outer` appear. They have been mapped to the \"hardware\" axes of parallelization: the kernel implicitly runs over a bunch of work groups (one for each value of `gid(0)`), each with 32 work items (each with their own index `lid(0)`)."
   ]
  },
  {
   "cell_type": "markdown",
   "metadata": {},
   "source": [
    "And the result is still correct!"
   ]
  },
  {
   "cell_type": "code",
   "execution_count": 19,
   "metadata": {},
   "outputs": [
    {
     "data": {
      "text/plain": [
       "8.881784197001252e-16"
      ]
     },
     "execution_count": 19,
     "metadata": {},
     "output_type": "execute_result"
    }
   ],
   "source": [
    "difference = a - a_true\n",
    "np.max(difference.get())"
   ]
  },
  {
   "cell_type": "markdown",
   "metadata": {},
   "source": [
    "We can achieve more parallelism by \"tagging\" `j` and `i` as, say, global indices 1 and 2."
   ]
  },
  {
   "cell_type": "code",
   "execution_count": 20,
   "metadata": {},
   "outputs": [],
   "source": [
    "knl = lp.tag_inames(knl, {'j': 'g.1', 'i': 'g.2'})"
   ]
  },
  {
   "cell_type": "code",
   "execution_count": 21,
   "metadata": {},
   "outputs": [
    {
     "name": "stdout",
     "output_type": "stream",
     "text": [
      "\u001b[36m#\u001b[39;49;00m\u001b[36mdefine lid(N) ((int) get_local_id(N))\u001b[39;49;00m\u001b[36m\u001b[39;49;00m\n",
      "\u001b[36m#\u001b[39;49;00m\u001b[36mdefine gid(N) ((int) get_group_id(N))\u001b[39;49;00m\u001b[36m\u001b[39;49;00m\n",
      "\u001b[36m#\u001b[39;49;00m\u001b[36mif __OPENCL_C_VERSION__ < 120\u001b[39;49;00m\u001b[36m\u001b[39;49;00m\n",
      "\u001b[36m#\u001b[39;49;00m\u001b[36mpragma OPENCL EXTENSION cl_khr_fp64: enable\u001b[39;49;00m\u001b[36m\u001b[39;49;00m\n",
      "\u001b[36m#\u001b[39;49;00m\u001b[36mendif\u001b[39;49;00m\u001b[36m\u001b[39;49;00m\n",
      "\n",
      "__kernel \u001b[36mvoid\u001b[39;49;00m \u001b[32m__attribute__\u001b[39;49;00m ((reqd_work_group_size(\u001b[34m32\u001b[39;49;00m, \u001b[34m1\u001b[39;49;00m, \u001b[34m1\u001b[39;49;00m))) loopy_kernel(\u001b[36mint\u001b[39;49;00m \u001b[34mconst\u001b[39;49;00m Nx, \u001b[36mint\u001b[39;49;00m \u001b[34mconst\u001b[39;49;00m Ny, \u001b[36mint\u001b[39;49;00m \u001b[34mconst\u001b[39;49;00m Nz, __global \u001b[36mdouble\u001b[39;49;00m *__restrict__ a, __global \u001b[36mdouble\u001b[39;49;00m \u001b[34mconst\u001b[39;49;00m *__restrict__ b, __global \u001b[36mdouble\u001b[39;49;00m \u001b[34mconst\u001b[39;49;00m *__restrict__ c, \u001b[36mdouble\u001b[39;49;00m \u001b[34mconst\u001b[39;49;00m z)\n",
      "{\n",
      "  \u001b[34mif\u001b[39;49;00m (-\u001b[34m1\u001b[39;49;00m + -\u001b[34m32\u001b[39;49;00m * gid(\u001b[34m0\u001b[39;49;00m) + -\u001b[34m1\u001b[39;49;00m * lid(\u001b[34m0\u001b[39;49;00m) + Nz >= \u001b[34m0\u001b[39;49;00m)\n",
      "    a[Nz * Ny * gid(\u001b[34m2\u001b[39;49;00m) + Nz * gid(\u001b[34m1\u001b[39;49;00m) + \u001b[34m32\u001b[39;49;00m * gid(\u001b[34m0\u001b[39;49;00m) + lid(\u001b[34m0\u001b[39;49;00m)] = c[Nz * Ny * gid(\u001b[34m2\u001b[39;49;00m) + Nz * gid(\u001b[34m1\u001b[39;49;00m) + \u001b[34m32\u001b[39;49;00m * gid(\u001b[34m0\u001b[39;49;00m) + lid(\u001b[34m0\u001b[39;49;00m)] * b[Nz * Ny * gid(\u001b[34m2\u001b[39;49;00m) + Nz * gid(\u001b[34m1\u001b[39;49;00m) + \u001b[34m32\u001b[39;49;00m * gid(\u001b[34m0\u001b[39;49;00m) + lid(\u001b[34m0\u001b[39;49;00m)] * b[Nz * Ny * gid(\u001b[34m2\u001b[39;49;00m) + Nz * gid(\u001b[34m1\u001b[39;49;00m) + \u001b[34m32\u001b[39;49;00m * gid(\u001b[34m0\u001b[39;49;00m) + lid(\u001b[34m0\u001b[39;49;00m)] + z;\n",
      "}\n",
      "\n"
     ]
    }
   ],
   "source": [
    "knl = lp.set_options(knl, write_cl=True)\n",
    "evt, _ = knl(queue, a=a, b=b, c=c, z=z)"
   ]
  },
  {
   "cell_type": "code",
   "execution_count": 22,
   "metadata": {},
   "outputs": [
    {
     "data": {
      "text/plain": [
       "8.881784197001252e-16"
      ]
     },
     "execution_count": 22,
     "metadata": {},
     "output_type": "execute_result"
    }
   ],
   "source": [
    "difference = a - a_true\n",
    "np.max(difference.get())"
   ]
  },
  {
   "cell_type": "markdown",
   "metadata": {},
   "source": [
    "Observe the pesky `if` statement, which is ensuring that no out-of-bounds array elements are accessed by the replacement of `k` with `32 * gid(0) + lid(0)`.\n",
    "If we are *sure* that this won't happen (namely, that `Nz` is divisble by 32), we can add this as an assumption:"
   ]
  },
  {
   "cell_type": "code",
   "execution_count": 23,
   "metadata": {},
   "outputs": [],
   "source": [
    "knl = lp.assume(knl, 'Nz mod 32 = 0')"
   ]
  },
  {
   "cell_type": "code",
   "execution_count": 24,
   "metadata": {},
   "outputs": [
    {
     "name": "stdout",
     "output_type": "stream",
     "text": [
      "\u001b[36m#\u001b[39;49;00m\u001b[36mdefine lid(N) ((int) get_local_id(N))\u001b[39;49;00m\u001b[36m\u001b[39;49;00m\n",
      "\u001b[36m#\u001b[39;49;00m\u001b[36mdefine gid(N) ((int) get_group_id(N))\u001b[39;49;00m\u001b[36m\u001b[39;49;00m\n",
      "\u001b[36m#\u001b[39;49;00m\u001b[36mif __OPENCL_C_VERSION__ < 120\u001b[39;49;00m\u001b[36m\u001b[39;49;00m\n",
      "\u001b[36m#\u001b[39;49;00m\u001b[36mpragma OPENCL EXTENSION cl_khr_fp64: enable\u001b[39;49;00m\u001b[36m\u001b[39;49;00m\n",
      "\u001b[36m#\u001b[39;49;00m\u001b[36mendif\u001b[39;49;00m\u001b[36m\u001b[39;49;00m\n",
      "\n",
      "__kernel \u001b[36mvoid\u001b[39;49;00m \u001b[32m__attribute__\u001b[39;49;00m ((reqd_work_group_size(\u001b[34m32\u001b[39;49;00m, \u001b[34m1\u001b[39;49;00m, \u001b[34m1\u001b[39;49;00m))) loopy_kernel(\u001b[36mint\u001b[39;49;00m \u001b[34mconst\u001b[39;49;00m Nx, \u001b[36mint\u001b[39;49;00m \u001b[34mconst\u001b[39;49;00m Ny, \u001b[36mint\u001b[39;49;00m \u001b[34mconst\u001b[39;49;00m Nz, __global \u001b[36mdouble\u001b[39;49;00m *__restrict__ a, __global \u001b[36mdouble\u001b[39;49;00m \u001b[34mconst\u001b[39;49;00m *__restrict__ b, __global \u001b[36mdouble\u001b[39;49;00m \u001b[34mconst\u001b[39;49;00m *__restrict__ c, \u001b[36mdouble\u001b[39;49;00m \u001b[34mconst\u001b[39;49;00m z)\n",
      "{\n",
      "  a[Nz * Ny * gid(\u001b[34m2\u001b[39;49;00m) + Nz * gid(\u001b[34m1\u001b[39;49;00m) + \u001b[34m32\u001b[39;49;00m * gid(\u001b[34m0\u001b[39;49;00m) + lid(\u001b[34m0\u001b[39;49;00m)] = c[Nz * Ny * gid(\u001b[34m2\u001b[39;49;00m) + Nz * gid(\u001b[34m1\u001b[39;49;00m) + \u001b[34m32\u001b[39;49;00m * gid(\u001b[34m0\u001b[39;49;00m) + lid(\u001b[34m0\u001b[39;49;00m)] * b[Nz * Ny * gid(\u001b[34m2\u001b[39;49;00m) + Nz * gid(\u001b[34m1\u001b[39;49;00m) + \u001b[34m32\u001b[39;49;00m * gid(\u001b[34m0\u001b[39;49;00m) + lid(\u001b[34m0\u001b[39;49;00m)] * b[Nz * Ny * gid(\u001b[34m2\u001b[39;49;00m) + Nz * gid(\u001b[34m1\u001b[39;49;00m) + \u001b[34m32\u001b[39;49;00m * gid(\u001b[34m0\u001b[39;49;00m) + lid(\u001b[34m0\u001b[39;49;00m)] + z;\n",
      "}\n",
      "\n"
     ]
    }
   ],
   "source": [
    "knl = lp.set_options(knl, write_cl=True)\n",
    "evt, (x,) = knl(queue, a=a, b=b, c=c, z=z)"
   ]
  },
  {
   "cell_type": "code",
   "execution_count": 25,
   "metadata": {},
   "outputs": [
    {
     "data": {
      "text/plain": [
       "8.881784197001252e-16"
      ]
     },
     "execution_count": 25,
     "metadata": {},
     "output_type": "execute_result"
    }
   ],
   "source": [
    "difference = a - a_true\n",
    "np.max(difference.get())"
   ]
  },
  {
   "cell_type": "markdown",
   "metadata": {},
   "source": [
    "### Symbolic representation of code"
   ]
  },
  {
   "cell_type": "markdown",
   "metadata": {},
   "source": [
    "First, let's inspect the actual instruction `knl` is executing as represented by `loopy` kernel objects:"
   ]
  },
  {
   "cell_type": "code",
   "execution_count": 26,
   "metadata": {},
   "outputs": [
    {
     "data": {
      "text/plain": [
       "[Assignment(assignee=Subscript(Variable('a'), (Variable('i'), Variable('j'), Sum((Variable('k_inner'), Product((Variable('k_outer'), 32)))))), predicates=frozenset(), tags=frozenset(), no_sync_with=frozenset(), boostable_into=None, boostable=None, id='insn', atomicity=(), depends_on_is_final=False, within_inames=frozenset({'i', 'k_outer', 'k_inner', 'j'}), depends_on=frozenset(), expression=Sum((Product((Power(Subscript(..., (..., ..., ...)), 2), Subscript(Variable('c'), (Variable('i'), Variable('j'), Sum((..., ...)))))), Variable('z'))), within_inames_is_final=False, conflicts_with_groups=frozenset(), temp_var_type=Optional(), priority=0, groups=frozenset())]"
      ]
     },
     "execution_count": 26,
     "metadata": {},
     "output_type": "execute_result"
    }
   ],
   "source": [
    "knl.instructions"
   ]
  },
  {
   "cell_type": "markdown",
   "metadata": {},
   "source": [
    "This has quite a lot of details - but we're interested in the \"assignee\" and the \"expression\" of the first (and only) instruction:"
   ]
  },
  {
   "cell_type": "code",
   "execution_count": 27,
   "metadata": {},
   "outputs": [
    {
     "data": {
      "text/plain": [
       "Subscript(Variable('a'), (Variable('i'), Variable('j'), Sum((Variable('k_inner'), Product((Variable('k_outer'), 32))))))"
      ]
     },
     "execution_count": 27,
     "metadata": {},
     "output_type": "execute_result"
    }
   ],
   "source": [
    "knl.instructions[0].assignee"
   ]
  },
  {
   "cell_type": "code",
   "execution_count": 28,
   "metadata": {},
   "outputs": [
    {
     "data": {
      "text/plain": [
       "Sum((Product((Power(Subscript(..., (..., ..., ...)), 2), Subscript(Variable('c'), (Variable('i'), Variable('j'), Sum((..., ...)))))), Variable('z')))"
      ]
     },
     "execution_count": 28,
     "metadata": {},
     "output_type": "execute_result"
    }
   ],
   "source": [
    "knl.instructions[0].expression"
   ]
  },
  {
   "cell_type": "markdown",
   "metadata": {},
   "source": [
    "This is an *expression tree*. We can actually see what's going on if we `print(assignee, '=', expression)`:"
   ]
  },
  {
   "cell_type": "code",
   "execution_count": 29,
   "metadata": {},
   "outputs": [
    {
     "name": "stdout",
     "output_type": "stream",
     "text": [
      "a[i, j, k_inner + k_outer*32] = b[i, j, k_inner + k_outer*32]**2*c[i, j, k_inner + k_outer*32] + z\n"
     ]
    }
   ],
   "source": [
    "print(knl.instructions[0].assignee, '=', knl.instructions[0].expression)"
   ]
  },
  {
   "cell_type": "markdown",
   "metadata": {},
   "source": [
    "This is exactly the statement that appears if we print `knl` itself:"
   ]
  },
  {
   "cell_type": "code",
   "execution_count": 30,
   "metadata": {},
   "outputs": [
    {
     "name": "stdout",
     "output_type": "stream",
     "text": [
      "---------------------------------------------------------------------------\n",
      "KERNEL: loopy_kernel\n",
      "---------------------------------------------------------------------------\n",
      "ARGUMENTS:\n",
      "Nx: ValueArg, type: <auto/runtime>\n",
      "Ny: ValueArg, type: <auto/runtime>\n",
      "Nz: ValueArg, type: <auto/runtime>\n",
      "a: type: <auto/runtime>, shape: (Nx, Ny, Nz), dim_tags: (N2:stride:Nz*Ny, N1:stride:Nz, N0:stride:1) aspace: global\n",
      "b: type: <auto/runtime>, shape: (Nx, Ny, Nz), dim_tags: (N2:stride:Nz*Ny, N1:stride:Nz, N0:stride:1) aspace: global\n",
      "c: type: <auto/runtime>, shape: (Nx, Ny, Nz), dim_tags: (N2:stride:Nz*Ny, N1:stride:Nz, N0:stride:1) aspace: global\n",
      "z: ValueArg, type: <auto/runtime>\n",
      "---------------------------------------------------------------------------\n",
      "DOMAINS:\n",
      "[Nx, Ny, Nz] -> { [i, j, k_outer, k_inner] : 0 <= i < Nx and 0 <= j < Ny and k_inner >= 0 and -32k_outer <= k_inner <= 31 and k_inner < Nz - 32k_outer }\n",
      "---------------------------------------------------------------------------\n",
      "INAME IMPLEMENTATION TAGS:\n",
      "i: g.2\n",
      "j: g.1\n",
      "k_inner: l.0\n",
      "k_outer: g.0\n",
      "---------------------------------------------------------------------------\n",
      "INSTRUCTIONS:\n",
      "for i, k_outer, k_inner, j\n",
      "        \u001b[36ma[i, j, k_inner + k_outer*32]\u001b[0m = \u001b[35mb[i, j, k_inner + k_outer*32]**2*c[i, j, k_inner + k_outer*32] + z\u001b[0m  {id=\u001b[32minsn\u001b[0m}\n",
      "end i, k_outer, k_inner, j\n",
      "---------------------------------------------------------------------------\n"
     ]
    }
   ],
   "source": [
    "print(knl)"
   ]
  },
  {
   "cell_type": "markdown",
   "metadata": {},
   "source": [
    "Let's reproduce this instruction using `pymbolic`. First we need to import all the \"primitive\" objects:"
   ]
  },
  {
   "cell_type": "code",
   "execution_count": 31,
   "metadata": {},
   "outputs": [],
   "source": [
    "import pymbolic.primitives as p"
   ]
  },
  {
   "cell_type": "markdown",
   "metadata": {},
   "source": [
    "Now create some named \"Variables\" (prepending their name with an underscore so they don't overwrite our `pyopencl` arrays):"
   ]
  },
  {
   "cell_type": "code",
   "execution_count": 32,
   "metadata": {},
   "outputs": [],
   "source": [
    "_a = p.Variable('a')\n",
    "_b = p.Variable('b')\n",
    "_c = p.Variable('c')\n",
    "_z = p.Variable('z')"
   ]
  },
  {
   "cell_type": "markdown",
   "metadata": {},
   "source": [
    "We also need some index variables:"
   ]
  },
  {
   "cell_type": "code",
   "execution_count": 33,
   "metadata": {},
   "outputs": [],
   "source": [
    "i = p.Variable('i')\n",
    "j = p.Variable('j')\n",
    "k = p.Variable('k')"
   ]
  },
  {
   "cell_type": "markdown",
   "metadata": {},
   "source": [
    "If we index (or \"subscript\") a `Variable`, we get a `Subscript` object:"
   ]
  },
  {
   "cell_type": "code",
   "execution_count": 34,
   "metadata": {},
   "outputs": [
    {
     "data": {
      "text/plain": [
       "Subscript(Variable('a'), (Variable('i'), Variable('j'), Variable('k')))"
      ]
     },
     "execution_count": 34,
     "metadata": {},
     "output_type": "execute_result"
    }
   ],
   "source": [
    "_a[i, j, k]"
   ]
  },
  {
   "cell_type": "markdown",
   "metadata": {},
   "source": [
    "This matches the `assignee` of the instruction above. Let's try the `expression`:"
   ]
  },
  {
   "cell_type": "code",
   "execution_count": 35,
   "metadata": {},
   "outputs": [
    {
     "data": {
      "text/plain": [
       "Sum((Product((Power(Subscript(..., (..., ..., ...)), 2), Subscript(Variable('c'), (Variable('i'), Variable('j'), Variable('k'))))), Variable('z')))"
      ]
     },
     "execution_count": 35,
     "metadata": {},
     "output_type": "execute_result"
    }
   ],
   "source": [
    "_b[i, j, k]**2 * _c[i, j, k] + _z"
   ]
  },
  {
   "cell_type": "code",
   "execution_count": 36,
   "metadata": {},
   "outputs": [
    {
     "name": "stdout",
     "output_type": "stream",
     "text": [
      "b[i, j, k]**2*c[i, j, k] + z\n"
     ]
    }
   ],
   "source": [
    "print(_b[i, j, k]**2 * _c[i, j, k] + _z)"
   ]
  },
  {
   "cell_type": "markdown",
   "metadata": {},
   "source": [
    "Looks good."
   ]
  },
  {
   "cell_type": "markdown",
   "metadata": {},
   "source": [
    "The lesson here is that `pymbolic` provides a symbolic way to generate code.\n",
    "Rather than inputting strings of instructions to `loopy.make_kernel` (which, as we saw above, are parsed to `pymbolic` expressions by `loopy` behind the scenes!), we can work with the symbolic code directly.\n",
    "This unlocks a lot of potential to actually use python as a scripting language to generate the code (which `loopy` uses to subsequently generate OpenCL code).\n",
    "`pymbolic` can be thought of as a very simple computer algebra system (it can take derivatives, for instance), but geared toward manipulating and generating code."
   ]
  },
  {
   "cell_type": "markdown",
   "metadata": {},
   "source": [
    "## 3. `pystella.ElementWiseMap`"
   ]
  },
  {
   "cell_type": "markdown",
   "metadata": {},
   "source": [
    "Let's see how `pystella` provides a simpler interface to `loopy` to turn `pymbolic` expressions into kernels.\n",
    "Instructions are represented by lists of pairs of assignees (the left-hand side) and expressions (the right-hand side).\n",
    "These can be input as dictionaries (with keys and values corresponding to assignees and expressions, respectively) or lists of tuples."
   ]
  },
  {
   "cell_type": "markdown",
   "metadata": {},
   "source": [
    "First, we'll recreate our same kernel again."
   ]
  },
  {
   "cell_type": "code",
   "execution_count": 37,
   "metadata": {},
   "outputs": [],
   "source": [
    "import pystella as ps"
   ]
  },
  {
   "cell_type": "code",
   "execution_count": 38,
   "metadata": {},
   "outputs": [],
   "source": [
    "map_instructions = {\n",
    "    _a[i, j, k]: _b[i, j, k]**2 * _c[i, j, k] + _z\n",
    "}"
   ]
  },
  {
   "cell_type": "code",
   "execution_count": 39,
   "metadata": {},
   "outputs": [],
   "source": [
    "ewmap = ps.ElementWiseMap(map_instructions, dtype='float64', halo_shape=0)"
   ]
  },
  {
   "cell_type": "code",
   "execution_count": 40,
   "metadata": {},
   "outputs": [
    {
     "name": "stdout",
     "output_type": "stream",
     "text": [
      "---------------------------------------------------------------------------\n",
      "KERNEL: loopy_kernel\n",
      "---------------------------------------------------------------------------\n",
      "ARGUMENTS:\n",
      "Nx: ValueArg, type: np:dtype('int64')\n",
      "Ny: ValueArg, type: np:dtype('int64')\n",
      "Nz: ValueArg, type: np:dtype('int64')\n",
      "a: type: np:dtype('float64'), shape: (Nx, Ny, Nz), dim_tags: (N2:stride:Nz*Ny, N1:stride:Nz, N0:stride:1), offset: <class 'loopy.kernel.data.auto'> aspace: global\n",
      "b: type: np:dtype('float64'), shape: (Nx, Ny, Nz), dim_tags: (N2:stride:Nz*Ny, N1:stride:Nz, N0:stride:1), offset: <class 'loopy.kernel.data.auto'> aspace: global\n",
      "c: type: np:dtype('float64'), shape: (Nx, Ny, Nz), dim_tags: (N2:stride:Nz*Ny, N1:stride:Nz, N0:stride:1), offset: <class 'loopy.kernel.data.auto'> aspace: global\n",
      "z: ValueArg, type: np:dtype('float64')\n",
      "---------------------------------------------------------------------------\n",
      "DOMAINS:\n",
      "[Nx, Ny, Nz] -> { [k_outer, k_inner, j_outer, j_inner, i_outer, i_inner] : i_inner = 0 and k_inner >= 0 and -16k_outer <= k_inner <= 15 and k_inner < Nz - 16k_outer and j_inner >= 0 and -4j_outer <= j_inner <= 3 and j_inner < Ny - 4j_outer and 0 <= i_outer < Nx }\n",
      "---------------------------------------------------------------------------\n",
      "INAME IMPLEMENTATION TAGS:\n",
      "i_inner: unr\n",
      "i_outer: g.2\n",
      "j_inner: l.1\n",
      "j_outer: g.1\n",
      "k_inner: l.0\n",
      "k_outer: g.0\n",
      "---------------------------------------------------------------------------\n",
      "INSTRUCTIONS:\n",
      "for i_outer, k_outer, k_inner, j_inner, j_outer, i_inner\n",
      "            \u001b[36ma[i_inner + i_outer, j_inner + j_outer*4, k_inner + k_outer*16]\u001b[0m = \u001b[35mb[i_inner + i_outer, j_inner + j_outer*4, k_inner + k_outer*16]**2*c[i_inner + i_outer, j_inner + j_outer*4, k_inner + k_outer*16] + z\u001b[0m  {id=\u001b[32minsn\u001b[0m}\n",
      "end i_outer, k_outer, k_inner, j_inner, j_outer, i_inner\n",
      "---------------------------------------------------------------------------\n"
     ]
    }
   ],
   "source": [
    "print(ewmap.knl)"
   ]
  },
  {
   "cell_type": "markdown",
   "metadata": {},
   "source": [
    "It's the same kernel! Already parallelized---`ElementWiseMap` implements a default parallelization that works well for these types of operations."
   ]
  },
  {
   "cell_type": "markdown",
   "metadata": {},
   "source": [
    "Let's check the results:"
   ]
  },
  {
   "cell_type": "code",
   "execution_count": 41,
   "metadata": {},
   "outputs": [],
   "source": [
    "evt, _ = ewmap(queue, a=a, b=b, c=c, z=z)"
   ]
  },
  {
   "cell_type": "code",
   "execution_count": 42,
   "metadata": {},
   "outputs": [
    {
     "data": {
      "text/plain": [
       "8.881784197001252e-16"
      ]
     },
     "execution_count": 42,
     "metadata": {},
     "output_type": "execute_result"
    }
   ],
   "source": [
    "difference = a - a_true\n",
    "np.max(difference.get())"
   ]
  },
  {
   "cell_type": "markdown",
   "metadata": {},
   "source": [
    "## 4. Using `pystella.Field`'s as input to `pystella.ElementWiseMap`"
   ]
  },
  {
   "cell_type": "markdown",
   "metadata": {},
   "source": [
    "`pystella.Field`'s can make our life even easier.\n",
    "Constantly indexing with `[i, j, k]` can get pretty annoying, and can be automate with `pymbolic`'s mapping methods."
   ]
  },
  {
   "cell_type": "code",
   "execution_count": 43,
   "metadata": {},
   "outputs": [],
   "source": [
    "_a = ps.Field('a')\n",
    "_b = ps.Field('b')\n",
    "_c = ps.Field('c')\n",
    "_z = p.Variable('z')\n",
    "\n",
    "map_instructions = [\n",
    "    (_a, _b**2 * _c + _z)\n",
    "]\n",
    "\n",
    "ewmap = ps.ElementWiseMap(map_instructions, dtype='float64', halo_shape=0)"
   ]
  },
  {
   "cell_type": "code",
   "execution_count": 44,
   "metadata": {},
   "outputs": [
    {
     "name": "stdout",
     "output_type": "stream",
     "text": [
      "---------------------------------------------------------------------------\n",
      "KERNEL: loopy_kernel\n",
      "---------------------------------------------------------------------------\n",
      "ARGUMENTS:\n",
      "Nx: ValueArg, type: np:dtype('int64')\n",
      "Ny: ValueArg, type: np:dtype('int64')\n",
      "Nz: ValueArg, type: np:dtype('int64')\n",
      "a: type: np:dtype('float64'), shape: (Nx, Ny, Nz), dim_tags: (N2:stride:Nz*Ny, N1:stride:Nz, N0:stride:1), offset: <class 'loopy.kernel.data.auto'> aspace: global\n",
      "b: type: np:dtype('float64'), shape: (Nx, Ny, Nz), dim_tags: (N2:stride:Nz*Ny, N1:stride:Nz, N0:stride:1), offset: <class 'loopy.kernel.data.auto'> aspace: global\n",
      "c: type: np:dtype('float64'), shape: (Nx, Ny, Nz), dim_tags: (N2:stride:Nz*Ny, N1:stride:Nz, N0:stride:1), offset: <class 'loopy.kernel.data.auto'> aspace: global\n",
      "z: ValueArg, type: np:dtype('float64')\n",
      "---------------------------------------------------------------------------\n",
      "DOMAINS:\n",
      "[Nx, Ny, Nz] -> { [k_outer, k_inner, j_outer, j_inner, i_outer, i_inner] : i_inner = 0 and k_inner >= 0 and -16k_outer <= k_inner <= 15 and k_inner < Nz - 16k_outer and j_inner >= 0 and -4j_outer <= j_inner <= 3 and j_inner < Ny - 4j_outer and 0 <= i_outer < Nx }\n",
      "---------------------------------------------------------------------------\n",
      "INAME IMPLEMENTATION TAGS:\n",
      "i_inner: unr\n",
      "i_outer: g.2\n",
      "j_inner: l.1\n",
      "j_outer: g.1\n",
      "k_inner: l.0\n",
      "k_outer: g.0\n",
      "---------------------------------------------------------------------------\n",
      "INSTRUCTIONS:\n",
      "for i_outer, k_outer, k_inner, j_inner, j_outer, i_inner\n",
      "            \u001b[36ma[i_inner + i_outer, j_inner + j_outer*4, k_inner + k_outer*16]\u001b[0m = \u001b[35mb[i_inner + i_outer, j_inner + j_outer*4, k_inner + k_outer*16]**2*c[i_inner + i_outer, j_inner + j_outer*4, k_inner + k_outer*16] + z\u001b[0m  {id=\u001b[32minsn\u001b[0m}\n",
      "end i_outer, k_outer, k_inner, j_inner, j_outer, i_inner\n",
      "---------------------------------------------------------------------------\n"
     ]
    }
   ],
   "source": [
    "print(ewmap.knl)"
   ]
  },
  {
   "cell_type": "markdown",
   "metadata": {},
   "source": [
    "We made no mention of indices or subscripts, yet the kernels are identical."
   ]
  },
  {
   "cell_type": "code",
   "execution_count": 45,
   "metadata": {},
   "outputs": [],
   "source": [
    "evt, _ = ewmap(queue, a=a, b=b, c=c, z=z)"
   ]
  },
  {
   "cell_type": "code",
   "execution_count": 46,
   "metadata": {},
   "outputs": [
    {
     "data": {
      "text/plain": [
       "8.881784197001252e-16"
      ]
     },
     "execution_count": 46,
     "metadata": {},
     "output_type": "execute_result"
    }
   ],
   "source": [
    "difference = a - a_true\n",
    "np.max(difference.get())"
   ]
  },
  {
   "cell_type": "markdown",
   "metadata": {},
   "source": [
    "To further illustrate why `pystella.Field`'s are useful, consider the (extremely common) case where arrays are padded in each direction.\n",
    "This is implemented by passing a value for `offset`."
   ]
  },
  {
   "cell_type": "code",
   "execution_count": 47,
   "metadata": {},
   "outputs": [],
   "source": [
    "_a = ps.Field('a', offset='h')\n",
    "_b = ps.Field('b', offset='h')\n",
    "_c = ps.Field('c', offset='h')\n",
    "_z = p.Variable('z')\n",
    "\n",
    "map_instructions = {\n",
    "    _a: _b**2 * _c + _z\n",
    "}\n",
    "\n",
    "ewmap = ps.ElementWiseMap(map_instructions, dtype='float64', halo_shape=1)"
   ]
  },
  {
   "cell_type": "code",
   "execution_count": 48,
   "metadata": {},
   "outputs": [
    {
     "name": "stdout",
     "output_type": "stream",
     "text": [
      "---------------------------------------------------------------------------\n",
      "KERNEL: loopy_kernel\n",
      "---------------------------------------------------------------------------\n",
      "ARGUMENTS:\n",
      "Nx: ValueArg, type: np:dtype('int64')\n",
      "Ny: ValueArg, type: np:dtype('int64')\n",
      "Nz: ValueArg, type: np:dtype('int64')\n",
      "a: type: np:dtype('float64'), shape: (Nx + 2, Ny + 2, Nz + 2), dim_tags: (N2:stride:(Nz + 2)*(Ny + 2), N1:stride:Nz + 2, N0:stride:1), offset: <class 'loopy.kernel.data.auto'> aspace: global\n",
      "b: type: np:dtype('float64'), shape: (Nx + 2, Ny + 2, Nz + 2), dim_tags: (N2:stride:(Nz + 2)*(Ny + 2), N1:stride:Nz + 2, N0:stride:1), offset: <class 'loopy.kernel.data.auto'> aspace: global\n",
      "c: type: np:dtype('float64'), shape: (Nx + 2, Ny + 2, Nz + 2), dim_tags: (N2:stride:(Nz + 2)*(Ny + 2), N1:stride:Nz + 2, N0:stride:1), offset: <class 'loopy.kernel.data.auto'> aspace: global\n",
      "z: ValueArg, type: np:dtype('float64')\n",
      "---------------------------------------------------------------------------\n",
      "DOMAINS:\n",
      "[Nx, Ny, Nz] -> { [k_outer, k_inner, j_outer, j_inner, i_outer, i_inner] : i_inner = 0 and k_inner >= 0 and -16k_outer <= k_inner <= 15 and k_inner < Nz - 16k_outer and j_inner >= 0 and -4j_outer <= j_inner <= 3 and j_inner < Ny - 4j_outer and 0 <= i_outer < Nx }\n",
      "---------------------------------------------------------------------------\n",
      "INAME IMPLEMENTATION TAGS:\n",
      "i_inner: unr\n",
      "i_outer: g.2\n",
      "j_inner: l.1\n",
      "j_outer: g.1\n",
      "k_inner: l.0\n",
      "k_outer: g.0\n",
      "---------------------------------------------------------------------------\n",
      "INSTRUCTIONS:\n",
      "for i_outer, k_outer, k_inner, j_inner, j_outer, i_inner\n",
      "            \u001b[36ma[1 + i_inner + i_outer, 1 + j_inner + j_outer*4, 1 + k_inner + k_outer*16]\u001b[0m = \u001b[35mb[1 + i_inner + i_outer, 1 + j_inner + j_outer*4, 1 + k_inner + k_outer*16]**2*c[1 + i_inner + i_outer, 1 + j_inner + j_outer*4, 1 + k_inner + k_outer*16] + z\u001b[0m  {id=\u001b[32minsn\u001b[0m}\n",
      "end i_outer, k_outer, k_inner, j_inner, j_outer, i_inner\n",
      "---------------------------------------------------------------------------\n"
     ]
    }
   ],
   "source": [
    "print(ewmap.knl)"
   ]
  },
  {
   "cell_type": "markdown",
   "metadata": {},
   "source": [
    "This would get quite cumbersome to type out manually, and it's easy to forget which arrays should be padded.\n",
    "From experience, it can be difficult to see errors in array indexing."
   ]
  },
  {
   "cell_type": "markdown",
   "metadata": {},
   "source": [
    "### Indexer"
   ]
  },
  {
   "cell_type": "markdown",
   "metadata": {},
   "source": [
    "Behind the scenes, `ElementWiseMap` is calling `index_fields`:"
   ]
  },
  {
   "cell_type": "code",
   "execution_count": 49,
   "metadata": {},
   "outputs": [
    {
     "name": "stdout",
     "output_type": "stream",
     "text": [
      "f\n",
      "f[i + h, j + 3, k + 2]\n"
     ]
    }
   ],
   "source": [
    "_f = ps.Field('f', offset=('h', 3, 2))\n",
    "print(_f)\n",
    "print(ps.index_fields(_f))"
   ]
  },
  {
   "cell_type": "markdown",
   "metadata": {},
   "source": [
    "### Exercise: computing spatial gradients with `pystella.Field` and the `pystella.Stencil` kernel generator"
   ]
  },
  {
   "cell_type": "markdown",
   "metadata": {},
   "source": [
    "`Field`'s indices may be shifted by `pystella.field.shift_fields`, which does what it sounds like:"
   ]
  },
  {
   "cell_type": "code",
   "execution_count": 50,
   "metadata": {},
   "outputs": [
    {
     "name": "stdout",
     "output_type": "stream",
     "text": [
      "a[i + h + 1, j + h, k + h]\n"
     ]
    }
   ],
   "source": [
    "from pystella.field import shift_fields\n",
    "print(ps.index_fields(shift_fields(_a, (1, 0, 0))))"
   ]
  },
  {
   "cell_type": "markdown",
   "metadata": {},
   "source": [
    "For this type of kernel, `pystella.Stencil` provides good parallelization (by allowing arrays to be *prefetched* into so-called \"shared\" memory)."
   ]
  },
  {
   "cell_type": "code",
   "execution_count": 51,
   "metadata": {},
   "outputs": [],
   "source": [
    "f = ps.Field('f', offset=1)\n",
    "\n",
    "dfdx = ps.Field('dfdx', offset=0)\n",
    "dfdy = ps.Field('dfdy', offset=0)\n",
    "dfdz = ps.Field('dfdz', offset=0)\n",
    "\n",
    "dx = p.Variable('dx')"
   ]
  },
  {
   "cell_type": "markdown",
   "metadata": {},
   "source": [
    "Fill in `map_instructions` below to compute the second-order centered-difference approximation to the gradient of `f`:"
   ]
  },
  {
   "cell_type": "code",
   "execution_count": 52,
   "metadata": {},
   "outputs": [],
   "source": [
    "map_instructions = {\n",
    "    dfdx: (shift_fields(f, (1, 0, 0)) - shift_fields(f, (-1, 0, 0))) / 2 / dx,\n",
    "    dfdy: (shift_fields(f, (0, 1, 0)) - shift_fields(f, (0, -1, 0))) / 2 / dx,\n",
    "    dfdz: (shift_fields(f, (0, 0, 1)) - shift_fields(f, (0, 0, -1))) / 2 / dx,\n",
    "}"
   ]
  },
  {
   "cell_type": "code",
   "execution_count": 53,
   "metadata": {},
   "outputs": [],
   "source": [
    "stencil = ps.Stencil(map_instructions, prefetch_args=['f'], halo_shape=1, dtype='float64')"
   ]
  },
  {
   "cell_type": "code",
   "execution_count": 54,
   "metadata": {},
   "outputs": [
    {
     "name": "stdout",
     "output_type": "stream",
     "text": [
      "---------------------------------------------------------------------------\n",
      "KERNEL: loopy_kernel\n",
      "---------------------------------------------------------------------------\n",
      "ARGUMENTS:\n",
      "Nx: ValueArg, type: np:dtype('int64')\n",
      "Ny: ValueArg, type: np:dtype('int64')\n",
      "Nz: ValueArg, type: np:dtype('int64')\n",
      "dfdx: type: np:dtype('float64'), shape: (Nx, Ny, Nz), dim_tags: (N2:stride:Nz*Ny, N1:stride:Nz, N0:stride:1), offset: <class 'loopy.kernel.data.auto'> aspace: global\n",
      "dfdy: type: np:dtype('float64'), shape: (Nx, Ny, Nz), dim_tags: (N2:stride:Nz*Ny, N1:stride:Nz, N0:stride:1), offset: <class 'loopy.kernel.data.auto'> aspace: global\n",
      "dfdz: type: np:dtype('float64'), shape: (Nx, Ny, Nz), dim_tags: (N2:stride:Nz*Ny, N1:stride:Nz, N0:stride:1), offset: <class 'loopy.kernel.data.auto'> aspace: global\n",
      "dx: ValueArg, type: np:dtype('float64')\n",
      "f: type: np:dtype('float64'), shape: (Nx + 2, Ny + 2, Nz + 2), dim_tags: (N2:stride:(Nz + 2)*(Ny + 2), N1:stride:Nz + 2, N0:stride:1), offset: <class 'loopy.kernel.data.auto'> aspace: global\n",
      "---------------------------------------------------------------------------\n",
      "DOMAINS:\n",
      "[Nx, Ny, Nz] -> { [k_outer, k_inner, j_outer, j_inner, i_outer, i_inner, f_dim_0, f_dim_1, f_dim_2] : k_outer >= 0 and 0 <= k_inner <= 7 and k_inner < Nz - 8k_outer and j_outer >= 0 and 0 <= j_inner <= 7 and j_inner < Ny - 8j_outer and i_outer >= 0 and 0 <= i_inner <= 7 and i_inner < Nx - 8i_outer and 0 <= f_dim_0 <= 9 and f_dim_0 <= 1 + Nx - 8i_outer and 0 <= f_dim_1 <= 9 and f_dim_1 <= 1 + Ny - 8j_outer and 0 <= f_dim_2 <= 9 and f_dim_2 <= 1 + Nz - 8k_outer }\n",
      "---------------------------------------------------------------------------\n",
      "INAME IMPLEMENTATION TAGS:\n",
      "f_dim_0: l.2\n",
      "f_dim_1: l.1\n",
      "f_dim_2: l.0\n",
      "i_inner: l.2\n",
      "i_outer: g.2\n",
      "j_inner: l.1\n",
      "j_outer: g.1\n",
      "k_inner: l.0\n",
      "k_outer: g.0\n",
      "---------------------------------------------------------------------------\n",
      "TEMPORARIES:\n",
      "_f: type: np:dtype('float64'), shape: (f_dim_0:10, f_dim_1:10, f_dim_2:10), dim_tags: (N2:stride:100, N1:stride:10, N0:stride:1) scope:auto\n",
      "---------------------------------------------------------------------------\n",
      "INSTRUCTIONS:\n",
      "    for i_outer, k_outer, j_outer, f_dim_1, f_dim_0, f_dim_2\n",
      "↱               \u001b[36m_f[f_dim_0, f_dim_1, f_dim_2]\u001b[0m = \u001b[35mf[f_dim_0 + 8*i_outer, f_dim_1 + 8*j_outer, f_dim_2 + 8*k_outer]\u001b[0m  {id=\u001b[32mf_fetch_rule\u001b[0m}\n",
      "│         end f_dim_1, f_dim_0, f_dim_2\n",
      "│         for k_inner, j_inner, i_inner\n",
      "├↱              \u001b[36mdfdx[i_inner + i_outer*8, j_inner + j_outer*8, k_inner + k_outer*8]\u001b[0m = \u001b[35m((_f[2 + i_inner, 1 + j_inner, 1 + k_inner] + (-1)*_f[i_inner, 1 + j_inner, 1 + k_inner]) / 2) / dx\u001b[0m  {id=\u001b[32minsn\u001b[0m}\n",
      "├└↱             \u001b[36mdfdy[i_inner + i_outer*8, j_inner + j_outer*8, k_inner + k_outer*8]\u001b[0m = \u001b[35m((_f[1 + i_inner, 2 + j_inner, 1 + k_inner] + (-1)*_f[1 + i_inner, j_inner, 1 + k_inner]) / 2) / dx\u001b[0m  {id=\u001b[32minsn_0\u001b[0m}\n",
      "└ └             \u001b[36mdfdz[i_inner + i_outer*8, j_inner + j_outer*8, k_inner + k_outer*8]\u001b[0m = \u001b[35m((_f[1 + i_inner, 1 + j_inner, 2 + k_inner] + (-1)*_f[1 + i_inner, 1 + j_inner, k_inner]) / 2) / dx\u001b[0m  {id=\u001b[32minsn_1\u001b[0m}\n",
      "    end i_outer, k_outer, j_outer, k_inner, j_inner, i_inner\n",
      "---------------------------------------------------------------------------\n"
     ]
    }
   ],
   "source": [
    "print(stencil.knl)"
   ]
  },
  {
   "cell_type": "markdown",
   "metadata": {},
   "source": [
    "We can also do something more complicated by inputting `tmp_instructions`, which computes temporary values (that don't get stored in global arrays) before executing the assignments specified by `map_instructions`:"
   ]
  },
  {
   "cell_type": "code",
   "execution_count": 55,
   "metadata": {},
   "outputs": [],
   "source": [
    "f = ps.Field('f', offset=1)\n",
    "g = ps.Field('g', offset=1)"
   ]
  },
  {
   "cell_type": "code",
   "execution_count": 56,
   "metadata": {},
   "outputs": [],
   "source": [
    "tmp = p.Variable('tmp')"
   ]
  },
  {
   "cell_type": "code",
   "execution_count": 57,
   "metadata": {},
   "outputs": [],
   "source": [
    "tmp_instructions = {}\n",
    "for i in range(3):\n",
    "    shift = [0, 0, 0]\n",
    "    shift[i] = 1\n",
    "    expr = shift_fields(f, tuple(shift))\n",
    "    shift[i] = - 1\n",
    "    expr += shift_fields(f, tuple(shift))\n",
    "    tmp_instructions[tmp[i]] = expr"
   ]
  },
  {
   "cell_type": "markdown",
   "metadata": {},
   "source": [
    "Let's check what we just did:"
   ]
  },
  {
   "cell_type": "code",
   "execution_count": 58,
   "metadata": {},
   "outputs": [
    {
     "name": "stdout",
     "output_type": "stream",
     "text": [
      "tmp[0] = f[i + 2, j + 1, k + 1] + f[i, j + 1, k + 1]\n",
      "tmp[1] = f[i + 1, j + 2, k + 1] + f[i + 1, j, k + 1]\n",
      "tmp[2] = f[i + 1, j + 1, k + 2] + f[i + 1, j + 1, k]\n"
     ]
    }
   ],
   "source": [
    "for key, value in tmp_instructions.items():\n",
    "    print(key, '=', ps.index_fields(value))"
   ]
  },
  {
   "cell_type": "code",
   "execution_count": 59,
   "metadata": {},
   "outputs": [],
   "source": [
    "map_instructions = {\n",
    "    g: tmp[0] * tmp[1] * tmp[2]\n",
    "}"
   ]
  },
  {
   "cell_type": "code",
   "execution_count": 60,
   "metadata": {},
   "outputs": [
    {
     "name": "stdout",
     "output_type": "stream",
     "text": [
      "---------------------------------------------------------------------------\n",
      "KERNEL: loopy_kernel\n",
      "---------------------------------------------------------------------------\n",
      "ARGUMENTS:\n",
      "Nx: ValueArg, type: np:dtype('int64')\n",
      "Ny: ValueArg, type: np:dtype('int64')\n",
      "Nz: ValueArg, type: np:dtype('int64')\n",
      "f: type: np:dtype('float64'), shape: (Nx + 2, Ny + 2, Nz + 2), dim_tags: (N2:stride:(Nz + 2)*(Ny + 2), N1:stride:Nz + 2, N0:stride:1), offset: <class 'loopy.kernel.data.auto'> aspace: global\n",
      "g: type: np:dtype('float64'), shape: (Nx + 2, Ny + 2, Nz + 2), dim_tags: (N2:stride:(Nz + 2)*(Ny + 2), N1:stride:Nz + 2, N0:stride:1), offset: <class 'loopy.kernel.data.auto'> aspace: global\n",
      "---------------------------------------------------------------------------\n",
      "DOMAINS:\n",
      "[Nx, Ny, Nz] -> { [k_outer, k_inner, j_outer, j_inner, i_outer, i_inner, f_dim_0, f_dim_1, f_dim_2] : k_outer >= 0 and 0 <= k_inner <= 7 and k_inner < Nz - 8k_outer and j_outer >= 0 and 0 <= j_inner <= 7 and j_inner < Ny - 8j_outer and i_outer >= 0 and 0 <= i_inner <= 7 and i_inner < Nx - 8i_outer and 0 <= f_dim_0 <= 9 and f_dim_0 <= 1 + Nx - 8i_outer and 0 <= f_dim_1 <= 9 and f_dim_1 <= 1 + Ny - 8j_outer and 0 <= f_dim_2 <= 9 and f_dim_2 <= 1 + Nz - 8k_outer }\n",
      "---------------------------------------------------------------------------\n",
      "INAME IMPLEMENTATION TAGS:\n",
      "f_dim_0: l.2\n",
      "f_dim_1: l.1\n",
      "f_dim_2: l.0\n",
      "i_inner: l.2\n",
      "i_outer: g.2\n",
      "j_inner: l.1\n",
      "j_outer: g.1\n",
      "k_inner: l.0\n",
      "k_outer: g.0\n",
      "---------------------------------------------------------------------------\n",
      "TEMPORARIES:\n",
      "_f: type: np:dtype('float64'), shape: (f_dim_0:10, f_dim_1:10, f_dim_2:10), dim_tags: (N2:stride:100, N1:stride:10, N0:stride:1) scope:auto\n",
      "tmp: type: <auto/runtime>, shape: (3), dim_tags: (N0:stride:1) scope:auto\n",
      "---------------------------------------------------------------------------\n",
      "INSTRUCTIONS:\n",
      "    for i_outer, k_outer, j_outer, f_dim_1, f_dim_0, f_dim_2\n",
      "↱               \u001b[36m_f[f_dim_0, f_dim_1, f_dim_2]\u001b[0m = \u001b[35mf[f_dim_0 + 8*i_outer, f_dim_1 + 8*j_outer, f_dim_2 + 8*k_outer]\u001b[0m  {id=\u001b[32mf_fetch_rule\u001b[0m}\n",
      "│         end f_dim_1, f_dim_0, f_dim_2\n",
      "│         for k_inner, j_inner, i_inner\n",
      "├↱              \u001b[36mtmp[0]\u001b[0m = \u001b[35m_f[2 + i_inner, 1 + j_inner, 1 + k_inner] + _f[i_inner, 1 + j_inner, 1 + k_inner]\u001b[0m  {id=\u001b[32minsn\u001b[0m}\n",
      "├└↱             \u001b[36mtmp[1]\u001b[0m = \u001b[35m_f[1 + i_inner, 2 + j_inner, 1 + k_inner] + _f[1 + i_inner, j_inner, 1 + k_inner]\u001b[0m  {id=\u001b[32minsn_0\u001b[0m}\n",
      "└↱└             \u001b[36mtmp[2]\u001b[0m = \u001b[35m_f[1 + i_inner, 1 + j_inner, 2 + k_inner] + _f[1 + i_inner, 1 + j_inner, k_inner]\u001b[0m  {id=\u001b[32minsn_1\u001b[0m}\n",
      " └              \u001b[36mg[1 + i_inner + i_outer*8, 1 + j_inner + j_outer*8, 1 + k_inner + k_outer*8]\u001b[0m = \u001b[35mtmp[0]*tmp[1]*tmp[2]\u001b[0m  {id=\u001b[32minsn_2\u001b[0m}\n",
      "    end i_outer, k_outer, j_outer, k_inner, j_inner, i_inner\n",
      "---------------------------------------------------------------------------\n"
     ]
    }
   ],
   "source": [
    "stencil = ps.Stencil(map_instructions, tmp_instructions=tmp_instructions, prefetch_args=['f'], halo_shape=1, dtype='float64')\n",
    "\n",
    "print(stencil.knl)"
   ]
  },
  {
   "cell_type": "code",
   "execution_count": null,
   "metadata": {},
   "outputs": [],
   "source": []
  }
 ],
 "metadata": {
  "kernelspec": {
   "display_name": "Python 3",
   "language": "python",
   "name": "python3"
  },
  "language_info": {
   "codemirror_mode": {
    "name": "ipython",
    "version": 3
   },
   "file_extension": ".py",
   "mimetype": "text/x-python",
   "name": "python",
   "nbconvert_exporter": "python",
   "pygments_lexer": "ipython3",
   "version": "3.7.3"
  },
  "toc": {
   "base_numbering": 1,
   "nav_menu": {},
   "number_sections": false,
   "sideBar": false,
   "skip_h1_title": false,
   "title_cell": "Table of Contents",
   "title_sidebar": "Contents",
   "toc_cell": false,
   "toc_position": {},
   "toc_section_display": false,
   "toc_window_display": false
  }
 },
 "nbformat": 4,
 "nbformat_minor": 2
}
